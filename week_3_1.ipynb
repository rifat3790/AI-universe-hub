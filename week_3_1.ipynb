{
  "nbformat": 4,
  "nbformat_minor": 0,
  "metadata": {
    "colab": {
      "provenance": [],
      "authorship_tag": "ABX9TyM4FzwZWtI5xNVrENTi/I+K",
      "include_colab_link": true
    },
    "kernelspec": {
      "name": "python3",
      "display_name": "Python 3"
    },
    "language_info": {
      "name": "python"
    }
  },
  "cells": [
    {
      "cell_type": "markdown",
      "metadata": {
        "id": "view-in-github",
        "colab_type": "text"
      },
      "source": [
        "<a href=\"https://colab.research.google.com/github/rifat3790/AI-universe-hub/blob/main/week_3_1.ipynb\" target=\"_parent\"><img src=\"https://colab.research.google.com/assets/colab-badge.svg\" alt=\"Open In Colab\"/></a>"
      ]
    },
    {
      "cell_type": "code",
      "execution_count": null,
      "metadata": {
        "colab": {
          "base_uri": "https://localhost:8080/"
        },
        "id": "DrwFN4f2E5rO",
        "outputId": "9a2274ed-720d-4e47-fa55-11d1be41b6da"
      },
      "outputs": [
        {
          "output_type": "stream",
          "name": "stdout",
          "text": [
            "Enter first number: 10\n",
            "Enter second number: 20\n",
            "Enter third number: 30\n",
            "First number: 11\n",
            "Second number: 21\n",
            "Third number: 31\n"
          ]
        }
      ],
      "source": [
        "num1 = int(input(\"Enter first number: \"))\n",
        "num2 = int(input(\"Enter second number: \"))\n",
        "num3 = int(input(\"Enter third number: \"))\n",
        "\n",
        "num1 += 1\n",
        "num2 += 1\n",
        "num3 += 1\n",
        "\n",
        "print(f\"First number: {num1}\\nSecond number: {num2}\\nThird number: {num3}\")"
      ]
    },
    {
      "cell_type": "code",
      "source": [
        "name = input(\"Enter your name: \")\n",
        "\n",
        "upper = name.upper()\n",
        "print(f\"Name: {upper}\")\n"
      ],
      "metadata": {
        "id": "_SxvsvoEFflm",
        "colab": {
          "base_uri": "https://localhost:8080/"
        },
        "outputId": "15e09434-67eb-4fcc-d1e4-c39c0915e0ca"
      },
      "execution_count": 1,
      "outputs": [
        {
          "output_type": "stream",
          "name": "stdout",
          "text": [
            "Enter your name: rifat\n",
            "Name: RIFAT\n"
          ]
        }
      ]
    },
    {
      "cell_type": "code",
      "source": [
        "age = int(input(\"Enter your age: \"))\n",
        "seconds = age * 365 * 24 * 60 * 60\n",
        "print(f\"Age to seconds: {seconds}\")"
      ],
      "metadata": {
        "id": "3xxDY2i8GhWb",
        "outputId": "a314af7e-3c63-4e78-f55d-150069d0ec68",
        "colab": {
          "base_uri": "https://localhost:8080/"
        }
      },
      "execution_count": 2,
      "outputs": [
        {
          "output_type": "stream",
          "name": "stdout",
          "text": [
            "Enter your age: 22\n",
            "Age to seconds: 693792000\n"
          ]
        }
      ]
    }
  ]
}